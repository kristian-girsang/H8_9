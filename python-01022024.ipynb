{
 "cells": [
  {
   "cell_type": "code",
   "execution_count": 1,
   "id": "620fdd92-175e-4146-99bb-7888881f26f1",
   "metadata": {},
   "outputs": [
    {
     "name": "stdin",
     "output_type": "stream",
     "text": [
      "Masukkan Nama Lengkap:  kristian\n",
      "Masukkan hobi anda:  makan\n",
      "Masukkan email anda:  kristian@email.com\n",
      "Masukkan nilai UTS anda:  80\n",
      "Masukkan nilai UAS anda:  80\n"
     ]
    },
    {
     "name": "stdout",
     "output_type": "stream",
     "text": [
      "\n",
      "\n",
      "--------------------------\n",
      "|   BERIKUT DATA ANDA    |\n",
      "--------------------------\n",
      "+--------------+--------------------+\n",
      "| Nama Lengkap | kristian           |\n",
      "+--------------+--------------------+\n",
      "| Hobi         | makan              |\n",
      "+--------------+--------------------+\n",
      "| E-mail       | kristian@email.com |\n",
      "+--------------+--------------------+\n",
      "| Nilai UTS    | 80                 |\n",
      "+--------------+--------------------+\n",
      "| Nilai UAS    | 80                 |\n",
      "+--------------+--------------------+\n",
      "| Status       | Lulus              |\n",
      "+--------------+--------------------+\n"
     ]
    }
   ],
   "source": [
    "from tabulate import tabulate\n",
    "\n",
    "name = input('Masukkan Nama Lengkap: ')\n",
    "hobby = input('Masukkan hobi anda: ')\n",
    "email = input('Masukkan email anda: ')\n",
    "nilai_uts = int(input('Masukkan nilai UTS anda: '))\n",
    "nilai_uas = int(input('Masukkan nilai UAS anda: '))\n",
    "\n",
    "\n",
    "if (nilai_uts + nilai_uas) <= 125 or nilai_uts <= 60 or nilai_uas <= 60:\n",
    "    status = 'Gagal'\n",
    "else:\n",
    "    status = 'Lulus'\n",
    "\n",
    "\n",
    "data = [\n",
    "    [\"Nama Lengkap\", name],\n",
    "    [\"Hobi\", hobby],\n",
    "    [\"E-mail\", email],\n",
    "    [\"Nilai UTS\", nilai_uts],\n",
    "    [\"Nilai UAS\", nilai_uas],\n",
    "    [\"Status\", status]\n",
    "]\n",
    "\n",
    "\n",
    "print('\\n\\n--------------------------')\n",
    "print('|   BERIKUT DATA ANDA    |')\n",
    "print('--------------------------')\n",
    "print(tabulate(data, tablefmt=\"grid\"))\n"
   ]
  },
  {
   "cell_type": "code",
   "execution_count": 2,
   "id": "e7a86f14-19e8-4899-9a33-534d5deff417",
   "metadata": {},
   "outputs": [
    {
     "name": "stdin",
     "output_type": "stream",
     "text": [
      "Input:  A\n"
     ]
    },
    {
     "name": "stdout",
     "output_type": "stream",
     "text": [
      "Desimal:  65\n",
      "Binary:  1000001\n",
      "Oktal:  101\n",
      "Hexadesimal:  41\n"
     ]
    }
   ],
   "source": [
    "def to_binary(decimal):\n",
    "    binary = ''\n",
    "    if decimal == 0:\n",
    "        return '0'\n",
    "    while decimal > 0:\n",
    "        binary = str(decimal %2) + binary\n",
    "        decimal = decimal // 2\n",
    "    return binary\n",
    "\n",
    "def to_oktal(decimal):\n",
    "    oktal = ''\n",
    "    if decimal == 0:\n",
    "        return '0'\n",
    "    while decimal > 0:\n",
    "        oktal = str(decimal % 8) + oktal\n",
    "        decimal = decimal // 8\n",
    "    return oktal\n",
    "\n",
    "def to_hexa(decimal):\n",
    "    hexa = ''\n",
    "    if decimal == 0:\n",
    "        return '0'\n",
    "    while decimal > 0:\n",
    "        hexa = str(decimal % 16) + hexa\n",
    "        decimal = decimal // 16\n",
    "    return hexa\n",
    "\n",
    "\n",
    "user_input = input('Input: ')\n",
    "\n",
    "if user_input.isdigit():\n",
    "    decimal = int(user_input)\n",
    "else:\n",
    "    decimal = ord(user_input)\n",
    "\n",
    "print('Desimal: ', decimal)\n",
    "print('Binary: ', to_binary(decimal))\n",
    "print('Oktal: ', to_oktal(decimal))\n",
    "print('Hexadesimal: ', to_hexa(decimal))"
   ]
  },
  {
   "cell_type": "code",
   "execution_count": 3,
   "id": "a349b6ea-9b43-4a01-97d9-5ea4ba61e434",
   "metadata": {},
   "outputs": [
    {
     "name": "stdout",
     "output_type": "stream",
     "text": [
      "12\n",
      "13\n",
      "14\n",
      "15\n",
      "Selesai\n",
      "19\n"
     ]
    }
   ],
   "source": [
    "s = 12\n",
    "\n",
    "while s <= 19:\n",
    "    if s <= 15:\n",
    "        print(s)\n",
    "    elif s > 18:\n",
    "        print('Selesai')\n",
    "        print(s)\n",
    "    s = s + 1"
   ]
  },
  {
   "cell_type": "code",
   "execution_count": null,
   "id": "ed449bff-c0bd-4008-aadd-893c6fd817c6",
   "metadata": {},
   "outputs": [],
   "source": []
  }
 ],
 "metadata": {
  "kernelspec": {
   "display_name": "Python 3 (ipykernel)",
   "language": "python",
   "name": "python3"
  },
  "language_info": {
   "codemirror_mode": {
    "name": "ipython",
    "version": 3
   },
   "file_extension": ".py",
   "mimetype": "text/x-python",
   "name": "python",
   "nbconvert_exporter": "python",
   "pygments_lexer": "ipython3",
   "version": "3.11.1"
  }
 },
 "nbformat": 4,
 "nbformat_minor": 5
}
